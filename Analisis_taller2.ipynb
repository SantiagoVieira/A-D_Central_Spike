{
  "nbformat": 4,
  "nbformat_minor": 0,
  "metadata": {
    "colab": {
      "provenance": [],
      "include_colab_link": true
    },
    "kernelspec": {
      "name": "python3",
      "display_name": "Python 3"
    },
    "language_info": {
      "name": "python"
    }
  },
  "cells": [
    {
      "cell_type": "markdown",
      "metadata": {
        "id": "view-in-github",
        "colab_type": "text"
      },
      "source": [
        "<a href=\"https://colab.research.google.com/github/SantiagoVieira/A-D_Central_Spike/blob/main/Analisis_taller2.ipynb\" target=\"_parent\"><img src=\"https://colab.research.google.com/assets/colab-badge.svg\" alt=\"Open In Colab\"/></a>"
      ]
    },
    {
      "cell_type": "markdown",
      "source": [
        "## Central Spike\n",
        "Bienvenidos al centro de codificación central spike, aqui trabajo el equipo de desarrollo para llevar a cabo una solucion que nos permitiera realizar diferentes calculos como lo son:\n",
        "1. Permutaciones\n",
        "2. Variaciones\n",
        "3. Combinaciones\n",
        "4. Principio multiplicativo\n",
        "\n",
        "En este notebook estara el analisis del programa con Big O.\n",
        "\n",
        "No siendo más esperamos que te sirva este programa.\n",
        "\n",
        "\n",
        "La documentacion del Codigo estara en le siguiente link:\n",
        "https://drive.google.com/file/d/1knZBANcYm8dm-hGc-S5pA4L6TuwakE-T/view?usp=sharing\n",
        "\n",
        "Si deseas ver que realiza cada parte del codigo te invito a que entres al siguiente link: https://colab.research.google.com/drive/1SlRhBRvdS21zhI4ozO3O-uzQ0yRZ-XZt?usp=sharing\n",
        "\n"
      ],
      "metadata": {
        "id": "U2CMC8bcda9A"
      }
    },
    {
      "cell_type": "code",
      "source": [
        "class Operaciones:\n",
        "    @staticmethod\n",
        "    def factorial(num):                  #Complejidad: O(n)\n",
        "      if num == 0 or num == 1:           # O(1)\n",
        "          return 1                       # O(1)\n",
        "      else:\n",
        "          resultado = 1                  # O(1)\n",
        "          for i in range(2, num + 1):    # O(n)\n",
        "              resultado *= i             # O(1)\n",
        "          return resultado               # O(1)"
      ],
      "metadata": {
        "id": "L0LoHh2HY3-4"
      },
      "execution_count": null,
      "outputs": []
    },
    {
      "cell_type": "code",
      "execution_count": null,
      "metadata": {
        "id": "9iySjHcpijbn"
      },
      "outputs": [],
      "source": [
        "class CalculadoraCombinatoria:\n",
        "    def __init__(self, n, r):                  # O(1)\n",
        "        self.n = n                             # O(1)\n",
        "        self.r = r                             # O(1)\n",
        "\n",
        "    def principio_multiplicativo(self):         #Complejidad: O(1)\n",
        "    # Multiplicacion de dos variables\n",
        "      return self.n * self.r                    # O(1)\n",
        "\n",
        "    def permutaciones(self):                    #Complejidad: O(n)\n",
        "        pregunta = input(\"Se repite (si/no): \")   # O(1)\n",
        "        if pregunta.lower() == \"si\":               # O(1)\n",
        "        # Llamadas al método factorial de la clase Operaciones\n",
        "          return Operaciones.factorial(self.n) // Operaciones.factorial(self.n-self.r)    # O(n)\n",
        "        elif pregunta.lower() == \"no\":            # O(1)\n",
        "        # Llamado al método factorial de la clase Operaciones\n",
        "          return Operaciones.factorial(self.n)     # O(n)\n",
        "        else:\n",
        "          print(\"opcion no valida\")                 # O(1)\n",
        "          CalculadoraCombinatoria.permutaciones(self)   # O(n)  -> llamado recursivo\n",
        "\n",
        "    def combinaciones(self):                      #Complejidad: O(n)\n",
        "       pregunta = input(\"Se repite (si/no): \")     # O(1)\n",
        "       if pregunta.lower() == \"si\":                 # O(1)\n",
        "       # Llamadas al método factorial de la clase Operaciones\n",
        "          return Operaciones.factorial(self.n+self.r-1) // (Operaciones.factorial(self.r) * Operaciones.factorial(self.n-1))    # O(n) -> llamados de la funcion factorial\n",
        "       elif pregunta.lower() == \"no\":     # O(1)\n",
        "       # Llamadas al método factorial de la clase Operaciones\n",
        "          return Operaciones.factorial(self.n) // (Operaciones.factorial(self.r) * Operaciones.factorial(self.n-self.r))  # O(n) -> llamados de la funcion factorial\n",
        "       else:\n",
        "          print(\"opcion no valida\")          # O(1)\n",
        "          CalculadoraCombinatoria.combinaciones(self) # O(n) llamado recursivo\n",
        "\n",
        "\n",
        "    def variaciones(self):   #Complejidad: O(n)\n",
        "      pregunta = input(\"Se repite (si/no): \")  # O(1)\n",
        "      if pregunta.lower() == \"si\":             # O(1)\n",
        "          return self.n**self.r                # O(1)\n",
        "      elif pregunta.lower() == \"no\":           # O(1)\n",
        "      # Llamadas al método factorial de la clase Operaciones\n",
        "        return Operaciones.factorial(self.n) // Operaciones.factorial(self.n-self.r) # O(n)\n",
        "      else:\n",
        "          print(\"opcion no valida\")                              # O(1)\n",
        "          CalculadoraCombinatoria.variaciones(self)     # O(n)\n"
      ]
    },
    {
      "cell_type": "code",
      "source": [
        "class InterfazUsuario:\n",
        "    def __init__(self):                     # O(1)\n",
        "        self.calculadora = None             # O(1)\n",
        "\n",
        "    def solicitar_datos(self):              # O(1)\n",
        "        print(\"\"\"\n",
        "   ____                  _                    _\n",
        "  / ___|   ___   _ __   | |_   _ __    __ _  | |\n",
        " | |      / _ \\ | '_ \\  | __| | '__|  / _` | | |\n",
        " | |___  |  __/ | | | | | |_  | |    | (_| | | |\n",
        "  \\____|  \\___| |_| |_|  \\__| |_|     \\__,_| |_|\n",
        " / ___|   _ __   (_) | | __   ___\n",
        " \\___ \\  | '_ \\  | | | |/ /  / _ \\\n",
        "  ___) | | |_) | | | |   <  |  __/\n",
        " |____/  | .__/  |_| |_|\\_\\  \\___|\n",
        "         |_|\n",
        "\"\"\")\n",
        "        print(\"Bienvenido al programa para calcular Principios de conteo.\")\n",
        "        print(\"\"\"\n",
        "        Los principios de conteo implican técnicas dentro del ámbito de la combinatoria,\n",
        "        que se emplean para determinar la cantidad de resultados posibles en una situación o experimento determinado.\n",
        "        El principio esencial del conteo establece que si una acción puede realizarse de 'n' formas distintas y otra\n",
        "        acción de 'r' formas, entonces hay 'n * r'formas diferentes de realizar las 2 acciones en conjunto.\n",
        "        En el estudio del conteo,existen 2 enfoques principales: las permutaciones y las combinaciones.\n",
        "        Las permutaciones tienen en cuenta el orden en el que se seleccionan los elementos, mientras que las combinaciones no consideran dicho orden.\n",
        "        \"\"\")\n",
        "        print(\"\")\n",
        "        print(\"Cuentanos que operacion deseas Realizar:\")\n",
        "        print(\"\")\n",
        "        print(\"1. Permutaciones\")\n",
        "        print(\"2. Combinaciones\")\n",
        "        print(\"3. Variaciones\")\n",
        "        print(\"4. Principio Multiplicativo\")\n",
        "        print(\"\")\n",
        "        while True:\n",
        "\n",
        "            try:\n",
        "                opcion = int(input(\"Elige una opción: \"))   # O(1)\n",
        "                if opcion in [1, 2, 3, 4]:                  # O(1)\n",
        "                  n = int(input(\"Ingresa el valor de n: \"))               # O(1)\n",
        "                  r = int(input(\"Ingresa el valor de r: \"))               # O(1)\n",
        "                  break                                                   # O(1)\n",
        "                else:\n",
        "                    print(\"Opción no válida, por favor elige una opción válida.\")  # O(1)\n",
        "            except ValueError:\n",
        "                print(\"Entrada inválida, por favor ingresa un número válido.\")     # O(1)\n",
        "        self.calculadora = CalculadoraCombinatoria(n, r)        # O(1)\n",
        "\n",
        "        return opcion                                           # O(1)\n",
        "\n",
        "    def mostrar_resultado(self, opcion):           # O(1)\n",
        "        if opcion == 1:                            # O(1)\n",
        "            print(\"Permutaciones: \", self.calculadora.permutaciones())     # O(n)\n",
        "        elif opcion == 2:                                                  # O(1)\n",
        "            print(\"Combinaciones: \", self.calculadora.combinaciones())     # O(n)\n",
        "        elif opcion == 3:                                                  # O(1)\n",
        "            print(\"Variaciones: \", self.calculadora.variaciones())         # O(n)\n",
        "        elif opcion == 4:                                                  # O(1)\n",
        "           print(\"Principio multiplicativo\", self.calculadora.principio_multiplicativo())   # O(1)\n",
        "        else:\n",
        "\n",
        "          print(\"Opción no válida\")    # O(1)\n",
        "\n",
        "def main():     # O(1)\n",
        "    interfaz = InterfazUsuario()   # O(1)\n",
        "    opcion = interfaz.solicitar_datos()   # O(1)\n",
        "    interfaz.mostrar_resultado(opcion)    # O(1)\n",
        "\n",
        "if __name__ == \"__main__\":\n",
        "\n",
        " main()    # O(1)"
      ],
      "metadata": {
        "colab": {
          "base_uri": "https://localhost:8080/"
        },
        "id": "7gpfE3Hh3HI2",
        "outputId": "54b9208f-d154-4128-994b-3f42b2bf1984"
      },
      "execution_count": null,
      "outputs": [
        {
          "metadata": {
            "tags": null
          },
          "name": "stdout",
          "output_type": "stream",
          "text": [
            "\n",
            "   ____                  _                    _\n",
            "  / ___|   ___   _ __   | |_   _ __    __ _  | |\n",
            " | |      / _ \\ | '_ \\  | __| | '__|  / _` | | |\n",
            " | |___  |  __/ | | | | | |_  | |    | (_| | | |\n",
            "  \\____|  \\___| |_| |_|  \\__| |_|     \\__,_| |_|\n",
            " / ___|   _ __   (_) | | __   ___\n",
            " \\___ \\  | '_ \\  | | | |/ /  / _   ___) | | |_) | | | |   <  |  __/\n",
            " |____/  | .__/  |_| |_|\\_\\  \\___|\n",
            "         |_|\n",
            "\n",
            "Bienvenido al programa para calcular Principios de conteo.\n",
            "\n",
            "        Los principios de conteo implican técnicas dentro del ámbito de la combinatoria,\n",
            "        que se emplean para determinar la cantidad de resultados posibles en una situación o experimento determinado.\n",
            "        El principio esencial del conteo establece que si una acción puede realizarse de 'n' formas distintas y otra\n",
            "        acción de 'r' formas, entonces hay 'n * r'formas diferentes de realizar las 2 acciones en conjunto.\n",
            "        En el estudio del conteo,existen 2 enfoques principales: las permutaciones y las combinaciones.\n",
            "        Las permutaciones tienen en cuenta el orden en el que se seleccionan los elementos, mientras que las combinaciones no consideran dicho orden.\n",
            "        \n",
            "\n",
            "Cuentanos que operacion deseas Realizar:\n",
            "\n",
            "1. Permutaciones\n",
            "2. Combinaciones\n",
            "3. Variaciones\n",
            "4. Principio Multiplicativo\n",
            "\n",
            "Entrada inválida, por favor ingresa un número válido.\n"
          ]
        }
      ]
    }
  ]
}
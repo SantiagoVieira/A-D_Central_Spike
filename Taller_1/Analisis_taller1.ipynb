{
  "nbformat": 4,
  "nbformat_minor": 0,
  "metadata": {
    "colab": {
      "provenance": [],
      "include_colab_link": true
    },
    "kernelspec": {
      "name": "python3",
      "display_name": "Python 3"
    },
    "language_info": {
      "name": "python"
    }
  },
  "cells": [
    {
      "cell_type": "markdown",
      "metadata": {
        "id": "view-in-github",
        "colab_type": "text"
      },
      "source": [
        "<a href=\"https://colab.research.google.com/github/SantiagoVieira/A-D_Central_Spike/blob/main/Analisis_taller1.ipynb\" target=\"_parent\"><img src=\"https://colab.research.google.com/assets/colab-badge.svg\" alt=\"Open In Colab\"/></a>"
      ]
    },
    {
      "cell_type": "markdown",
      "source": [
        "1. Dado las dimensiones de una matriz cuadrada, mostrar los\n",
        "índices de la matriz en forma de zig-zag empezando por la\n",
        "posición[n][n].(Punto recursivo)"
      ],
      "metadata": {
        "id": "kj3AhlBh4H0D"
      }
    },
    {
      "cell_type": "code",
      "execution_count": null,
      "metadata": {
        "id": "FKCmJLha6ggI"
      },
      "outputs": [],
      "source": [
        "def m_zig_zag(m,row = 0, col = 0, indices = [[0,0]], mov = 0):\n",
        "\n",
        "  if row == (len(m)-1) and col == (len(m)-1):                                   # caso base\n",
        "    return indices\n",
        "\n",
        "  else:\n",
        "\n",
        "    if mov ==1:                                                                 # movimiento en diagonal derecha arriba\n",
        "      if row - 1 >= 0 and col + 1 <= (len(m)-1):                                # pregunto si me puedo mover en esa dirrecion\n",
        "        n = [row - 1,col + 1]                                                   # n variable que guarda los indices de la posicion\n",
        "\n",
        "        if n not in indices:                                                    # pregunto si no esta en la lista de los indices para no repitir posiciones\n",
        "          indices.append([row -1, col + 1])\n",
        "          return m_zig_zag(m,row - 1, col + 1, indices, mov = 2 )               # llamo al otro movimiento cambiando row y col a la posicion que queria que se moviera.\n",
        "\n",
        "      if row == 0 and col + 1 <= (len(m)-1):                                    # por si se tiene que mover a la derecha, estando en la primera fila\n",
        "\n",
        "        return m_zig_zag(m,row,col,indices,mov = 3)\n",
        "\n",
        "      if row == 0 and col == (len(m)-1):                                        # por si se tiene que mover abajo, estando en la primera fila y ultima columna\n",
        "        return m_zig_zag(m,row,col,indices,mov = 0)\n",
        "\n",
        "      if row == (len(m) -1 ) and col + 1 <= (len(m) -1 ):                       # por si se tiene que mover a la derecha, estando en la ultima fila\n",
        "        return m_zig_zag(m,row,col,indices,mov = 3)\n",
        "\n",
        "      else:\n",
        "        return m_zig_zag(m,row,col,indices,mov = 2)                             # llamo al otro moviento\n",
        "\n",
        "    if mov ==2:                                                                 # moviento diagonal izquierda abajo\n",
        "      if row + 1 <= (len(m)-1) and col - 1 >= 0:                                # pregunto si me puedo mover en esa dirrecion\n",
        "\n",
        "        n = [row + 1,col - 1]                                                   # n variable que guarda los indices de la posicion\n",
        "\n",
        "        if n not in indices:\n",
        "          indices.append([row +1, col - 1])\n",
        "          return m_zig_zag(m,row + 1, col - 1, indices, mov = 1 )\n",
        "\n",
        "      if row <= (len(m) - 1) and col == 0:                                      # por si se tiene que mover hacia abajo, estando en cualquier fila pero en la primera colunma\n",
        "        return m_zig_zag(m,row,col,indices,mov = 0)\n",
        "\n",
        "      if row <= (len(m) - 1) and col == (len(m) - 1):                           # por si se tiene que mover hacia abajo, estando en cualquier fila pero en la ultima colunma\n",
        "        return m_zig_zag(m,row,col,indices,mov = 0)\n",
        "\n",
        "      else:\n",
        "\n",
        "        return m_zig_zag(m,row,col,indices,mov = 1)\n",
        "\n",
        "    if mov == 3:                                                                # moviento hacia la derecha\n",
        "      if row <= (len(m) - 1) and col + 1 <= (len(m)-1):\n",
        "        n = [row,col + 1]\n",
        "        if n not in indices:\n",
        "          indices.append([row,col+1])\n",
        "          return m_zig_zag(m,row,col + 1,indices,mov = 2)                       # pongo mov = 2 para que se siga moviendo en zig zag\n",
        "      else:\n",
        "        return m_zig_zag(m,row,col,indices,mov = 2)\n",
        "\n",
        "    if mov == 0:                                                                # movimiento hacia abajo\n",
        "\n",
        "      if row + 1 <= (len(m)-1) and col <= (len(m)-1):\n",
        "\n",
        "       # n = [row + 1, col]\n",
        "        if [row + 1, col] not in indices:\n",
        "          indices.append([row + 1, col])\n",
        "          return m_zig_zag(m,row + 1, col, indices, mov = 1)\n",
        "      else:\n",
        "        return m_zig_zag(m,row,col,indices,mov = 1)                             # pongo mov = 1 para que se siga moviendo en zig zag\n",
        "\n",
        "# Casos de Prueba\n",
        "b = [[2,3,4],[3,6,1],[0,6,5]] # matriz 3 x 3\n",
        "m = [[2,8,6,0],[12,8,9,4],[5,7,0,2],[0,3,1,6]] # matriz 4 x 4\n",
        "c = [[2,6,1,0,5],[7,9,2,5,7],[5,1,0,3,8],[4,1,7,0,0],[7,4,3,1,0]] # matriz 5 x 5\n",
        "n = [[2,8,6,0,7,8],[2,8,6,0,7,8],[2,8,6,0,7,8],[2,8,6,0,7,8],[2,8,6,0,7,8],[2,8,6,0,7,8]] # matriz 6 x 6\n",
        "m_zig_zag(m)"
      ]
    },
    {
      "cell_type": "markdown",
      "source": [
        " crea una funcion recursiva que sume todos los elementos de un array (punto recursivo)"
      ],
      "metadata": {
        "id": "LbvPMt5W0jwd"
      }
    },
    {
      "cell_type": "code",
      "source": [
        "def sum_array(array):\n",
        "    if len(array) == 0:                            #Verificamos si el array esta vacio, si lo esta retorna 0\n",
        "        return 0\n",
        "    else:\n",
        "        return array[0] + sum_array(array[1:])     # Si el array no está vacío, devuelve el primer elemento del array sumado al resultado de llamar a la función sum_array con el resto del array (desde el segundo elemento en adelante).\n",
        "\n",
        "# caso de prueba\n",
        "array = [1, 2, 3, 4, 10]\n",
        "print(sum_array(array))\n"
      ],
      "metadata": {
        "id": "-R9ovPHp6ewO"
      },
      "execution_count": null,
      "outputs": []
    },
    {
      "cell_type": "markdown",
      "source": [
        "Desarrolla una función no recursiva que sume todos los dígitos\n",
        "de un número entero."
      ],
      "metadata": {
        "id": "nlNpDWvx0wP-"
      }
    },
    {
      "cell_type": "code",
      "source": [
        "def add_numbers(numbers):  # Complejidad temporal: O(n), Complejidad espacial: O(1)\n",
        "    numbers = abs(numbers)  # Operación constante, O(1)\n",
        "    sum = 0  # Operación constante, O(1)\n",
        "    while numbers != 0:  # Iteración sobre los dígitos, O(n)\n",
        "        sum += numbers % 10  # Operación constante, O(1)\n",
        "        numbers //= 10  # Operación constante, O(1)\n",
        "    return sum  # Operación constante, O(1)\n",
        "\n",
        "numbers = 78956424874  # Operación constante, O(1)\n",
        "print(\"La suma de los dígitos de\", numbers, \"es:\", add_numbers(numbers))  # Operación constante, O(1)"
      ],
      "metadata": {
        "id": "agfmD272yOF4",
        "colab": {
          "base_uri": "https://localhost:8080/"
        },
        "outputId": "50f93662-f35d-4809-9378-e5a0de9dfabc"
      },
      "execution_count": null,
      "outputs": [
        {
          "output_type": "stream",
          "name": "stdout",
          "text": [
            "La suma de los dígitos de 78956424874 es: 64\n"
          ]
        }
      ]
    },
    {
      "cell_type": "markdown",
      "source": [
        "Implementa una función no recursiva que cuente el número de\n",
        "dígitos en un número entero"
      ],
      "metadata": {
        "id": "uZZFIuWlfRa3"
      }
    },
    {
      "cell_type": "code",
      "source": [
        "def contar_digitos(numero): # Complejidad temporal: O(n), Complejidad espacial: O(1)\n",
        "    # Convertimos el número a su valor absoluto para manejar números negativos\n",
        "    numero = abs(numero) #O(0)\n",
        "    # Inicializamos el contador de dígitos\n",
        "    contador = 0 #O(0)\n",
        "    # Iteramos mientras el número no sea igual a cero\n",
        "    while numero != 0: #O(n)\n",
        "        # Incrementamos el contador en uno\n",
        "        contador += 1 #O(n)\n",
        "        # Dividimos el número entre 10 para eliminar el último dígito\n",
        "        numero //= 10 #O(n)\n",
        "    # Retornamos el contador que representa el número de dígitos\n",
        "    return contador #O(0)\n",
        "\n",
        "# Ejemplo de uso\n",
        "numero = 102485 #O(0)\n",
        "print(\"El número de dígitos en\", numero, \"es:\", contar_digitos(numero)) #O(0)"
      ],
      "metadata": {
        "id": "MKvqrQRDf-kx"
      },
      "execution_count": null,
      "outputs": []
    }
  ]
}